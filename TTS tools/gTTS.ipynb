{
  "nbformat": 4,
  "nbformat_minor": 0,
  "metadata": {
    "colab": {
      "provenance": []
    },
    "kernelspec": {
      "name": "python3",
      "display_name": "Python 3"
    },
    "language_info": {
      "name": "python"
    }
  },
  "cells": [
    {
      "cell_type": "code",
      "source": [
        "pip install gTTS\n",
        "\n",
        "from gtts import gTTS\n",
        "import pandas as pd\n",
        "\n",
        "# Tamil input learning material\n",
        "csv_text = '/content/tamil_learning_material.csv'\n",
        "df = pd.read_csv(csv_text)\n",
        "\n",
        "tamil_text = ' '.join(df['Tamil_Text'].astype(str))\n",
        "\n",
        "# generate audio learning material using gTTS\n",
        "tts = gTTS(text=tamil_text, lang='ta')  # 'ta' is for language Tamil\n",
        "\n",
        "# save as .wav\n",
        "tts.save(\"gTTS-Female.wav\")\n",
        "\n",
        "print(\" Tamil synthesized speech output generated from gTTS in tamil lanugauge\")\n",
        "\n",
        "from IPython.display import Audio, display\n",
        "\n",
        "display(Audio(\"gTTS-Female.wav\"))\n"
      ],
      "metadata": {
        "colab": {
          "base_uri": "https://localhost:8080/"
        },
        "id": "yG0zmlp8FMTP",
        "outputId": "df0b92a0-5bd3-484f-f835-2f8d25084f57"
      },
      "execution_count": null,
      "outputs": [
        {
          "output_type": "stream",
          "name": "stdout",
          "text": [
            "✅ Tamil speech saved as tamil_gtts.mp3\n"
          ]
        }
      ]
    }
  ]
}